{
  "cells": [
    {
      "cell_type": "markdown",
      "metadata": {},
      "source": [
        "---\n",
        "title: 'Bash and HPC Essentials'\n",
        "author: 'Jonathan Chipman, Ph.D.'\n",
        "format: \n",
        "  html:\n",
        "    toc: TRUE\n",
        "    toc-depth: 2\n",
        "    toc-location: left\n",
        "    highlight: pygments\n",
        "    font_adjustment: -1\n",
        "    css: styles.css\n",
        "    # code-fold: true\n",
        "    code-tools: true\n",
        "    smooth-scroll: true\n",
        "    embed-resources: true\n",
        "  revealjs: default\n",
        "  pdf: default\n",
        "---\n",
        "\n",
        "\n",
        "# Table of Contents\n",
        "1. Set up Aliases for Bash File (.bash_profile)\n",
        "    1. Example\n",
        "2. First Example: Simulating Pi\n",
        "    1. Save File on Local Machine\n",
        "    2. Set Up the Target Location\n",
        "    3. SCP File from Local to CHPC Account\n",
        "    4. Create Slurm File\n",
        "    5. Run File\n",
        "    6. Watch SQ\n",
        "    7. Examine Results\n",
        "    8. Send Back to Local Machine\n",
        "3. Parallel, Arrays, Multi-node\n",
        "4. Appendix: Vim Common Commands\n",
        "\n",
        "# 1. Set up Aliases for Bash File (.bash_profile)\n",
        "\n",
        "First set up aliases to log-in to chpc. Begin by determining what SHELL you are using.\n",
        "\n",
        "\n",
        "```{bash, eval=FALSE}\n",
        "echo $PATH\n",
        "```"
      ],
      "id": "a371015c"
    }
  ],
  "metadata": {
    "kernelspec": {
      "display_name": "Python 3",
      "language": "python",
      "name": "python3"
    }
  },
  "nbformat": 4,
  "nbformat_minor": 5
}