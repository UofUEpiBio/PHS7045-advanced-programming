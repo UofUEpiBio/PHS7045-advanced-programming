{
 "cells": [
  {
   "cell_type": "markdown",
   "metadata": {},
   "source": [
    "# Data management with datatable in python"
   ]
  },
  {
   "cell_type": "markdown",
   "metadata": {},
   "source": [
    "In this example, we will be using the python version of datatable which is available [here](https://github.com/h2oai/datatable). This library can be directly installed using pip. Notice that you need to have python 3.5>= and a relative modern version of pip, otherwise you may see an error like what happened [here](https://github.com/h2oai/datatable/issues/2268).\n",
    "\n",
    "For this example, we will be reading meteorological data from NOAA, download it from an FTP portal, process it a little bit using `datatable`, and save it for later."
   ]
  },
  {
   "cell_type": "code",
   "execution_count": 1,
   "metadata": {},
   "outputs": [
    {
     "data": {
      "text/html": [
       "<style type='text/css'>\n",
       ".datatable table.frame { margin-bottom: 0; }\n",
       ".datatable table.frame thead { border-bottom: none; }\n",
       ".datatable table.frame tr.coltypes td {  color: #FFFFFF;  line-height: 6px;  padding: 0 0.5em;}\n",
       ".datatable .boolean { background: #DDDD99; }\n",
       ".datatable .object  { background: #565656; }\n",
       ".datatable .integer { background: #5D9E5D; }\n",
       ".datatable .float   { background: #4040CC; }\n",
       ".datatable .string  { background: #CC4040; }\n",
       ".datatable .row_index {  background: var(--jp-border-color3);  border-right: 1px solid var(--jp-border-color0);  color: var(--jp-ui-font-color3);  font-size: 9px;}\n",
       ".datatable .frame tr.coltypes .row_index {  background: var(--jp-border-color0);}\n",
       ".datatable th:nth-child(2) { padding-left: 12px; }\n",
       ".datatable .hellipsis {  color: var(--jp-cell-editor-border-color);}\n",
       ".datatable .vellipsis {  background: var(--jp-layout-color0);  color: var(--jp-cell-editor-border-color);}\n",
       ".datatable .na {  color: var(--jp-cell-editor-border-color);  font-size: 80%;}\n",
       ".datatable .footer { font-size: 9px; }\n",
       ".datatable .frame_dimensions {  background: var(--jp-border-color3);  border-top: 1px solid var(--jp-border-color0);  color: var(--jp-ui-font-color3);  display: inline-block;  opacity: 0.6;  padding: 1px 10px 1px 5px;}\n",
       "</style>\n"
      ],
      "text/plain": [
       "<IPython.core.display.HTML object>"
      ]
     },
     "metadata": {},
     "output_type": "display_data"
    }
   ],
   "source": [
    "import datatable as dt;\n",
    "import numpy as np;\n",
    "import matplotlib.pyplot as mp; # To call the plot function on matplotlib\n",
    "import pandas as pd;\n",
    "import ftplib;\n",
    "import tempfile;"
   ]
  },
  {
   "cell_type": "code",
   "execution_count": 2,
   "metadata": {},
   "outputs": [],
   "source": [
    "stations = dt.fread(\"ftp://ftp.ncdc.noaa.gov/pub/data/noaa/isd-history.csv\")"
   ]
  },
  {
   "cell_type": "code",
   "execution_count": 3,
   "metadata": {},
   "outputs": [
    {
     "data": {
      "text/html": [
       "<div class='datatable'>\n",
       "  <table class='frame'>\n",
       "  <thead>\n",
       "    <tr class='colnames'><td class='row_index'></td><th>USAF</th><th>WBAN</th><th>STATION NAME</th><th>CTRY</th><th>STATE</th><th>ICAO</th><th>LAT</th><th>LON</th><th>ELEV(M)</th><th>BEGIN</th><th>END</th></tr>\n",
       "    <tr class='coltypes'><td class='row_index'></td><td class='string' title='str32'>&#x25AA;&#x25AA;&#x25AA;&#x25AA;</td><td class='integer' title='int32'>&#x25AA;&#x25AA;&#x25AA;&#x25AA;</td><td class='string' title='str32'>&#x25AA;&#x25AA;&#x25AA;&#x25AA;</td><td class='string' title='str32'>&#x25AA;&#x25AA;&#x25AA;&#x25AA;</td><td class='string' title='str32'>&#x25AA;&#x25AA;&#x25AA;&#x25AA;</td><td class='string' title='str32'>&#x25AA;&#x25AA;&#x25AA;&#x25AA;</td><td class='float' title='float64'>&#x25AA;&#x25AA;&#x25AA;&#x25AA;&#x25AA;&#x25AA;&#x25AA;&#x25AA;</td><td class='float' title='float64'>&#x25AA;&#x25AA;&#x25AA;&#x25AA;&#x25AA;&#x25AA;&#x25AA;&#x25AA;</td><td class='float' title='float64'>&#x25AA;&#x25AA;&#x25AA;&#x25AA;&#x25AA;&#x25AA;&#x25AA;&#x25AA;</td><td class='integer' title='int32'>&#x25AA;&#x25AA;&#x25AA;&#x25AA;</td><td class='integer' title='int32'>&#x25AA;&#x25AA;&#x25AA;&#x25AA;</td></tr>\n",
       "  </thead>\n",
       "  <tbody>\n",
       "    <tr><td class='row_index'>0</td><td>007018</td><td>99999</td><td>WXPOD 7018</td><td></td><td></td><td></td><td>0</td><td>0</td><td>7018</td><td>20110309</td><td>20130730</td></tr>\n",
       "    <tr><td class='row_index'>1</td><td>007026</td><td>99999</td><td>WXPOD 7026</td><td>AF</td><td></td><td></td><td>0</td><td>0</td><td>7026</td><td>20120713</td><td>20170822</td></tr>\n",
       "    <tr><td class='row_index'>2</td><td>007070</td><td>99999</td><td>WXPOD 7070</td><td>AF</td><td></td><td></td><td>0</td><td>0</td><td>7070</td><td>20140923</td><td>20150926</td></tr>\n",
       "    <tr><td class='row_index'>3</td><td>008260</td><td>99999</td><td>WXPOD8270</td><td></td><td></td><td></td><td>0</td><td>0</td><td>0</td><td>20050101</td><td>20100920</td></tr>\n",
       "    <tr><td class='row_index'>4</td><td>008268</td><td>99999</td><td>WXPOD8278</td><td>AF</td><td></td><td></td><td>32.95</td><td>65.567</td><td>1156.7</td><td>20100519</td><td>20120323</td></tr>\n",
       "  </tbody>\n",
       "  </table>\n",
       "  <div class='footer'>\n",
       "    <div class='frame_dimensions'>5 rows &times; 11 columns</div>\n",
       "  </div>\n",
       "</div>\n"
      ],
      "text/plain": [
       "<Frame [5 rows x 11 cols]>"
      ]
     },
     "execution_count": 3,
     "metadata": {},
     "output_type": "execute_result"
    }
   ],
   "source": [
    "stations.head(5)"
   ]
  },
  {
   "cell_type": "markdown",
   "metadata": {},
   "source": [
    "We now need to filter the data and restrict to continental US only"
   ]
  },
  {
   "cell_type": "code",
   "execution_count": 4,
   "metadata": {},
   "outputs": [
    {
     "data": {
      "text/plain": [
       "(2234, 11)"
      ]
     },
     "execution_count": 4,
     "metadata": {},
     "output_type": "execute_result"
    }
   ],
   "source": [
    "to_exclude = [\"AK\", \"HI\", \"\", \"PR\", \"VI\"]\n",
    "st_us = stations[\n",
    "    (dt.f.CTRY == 'US') & \n",
    "    ~np.isin(stations[:,dt.f.STATE], to_exclude) &\n",
    "    (dt.f.WBAN < 99999) & (dt.f.USAF != '999999') &\n",
    "    ~dt.f['STATION NAME'].re_match('BUOY|ISLAND|PLATFORM'),\n",
    "    :]\n",
    "# Checking the size\n",
    "st_us.shape"
   ]
  },
  {
   "cell_type": "code",
   "execution_count": 5,
   "metadata": {},
   "outputs": [
    {
     "data": {
      "text/html": [
       "<div class='datatable'>\n",
       "  <table class='frame'>\n",
       "  <thead>\n",
       "    <tr class='colnames'><td class='row_index'></td><th>STATE</th><th>total</th></tr>\n",
       "    <tr class='coltypes'><td class='row_index'></td><td class='string' title='str32'>&#x25AA;&#x25AA;&#x25AA;&#x25AA;</td><td class='integer' title='int64'>&#x25AA;&#x25AA;&#x25AA;&#x25AA;&#x25AA;&#x25AA;&#x25AA;&#x25AA;</td></tr>\n",
       "  </thead>\n",
       "  <tbody>\n",
       "    <tr><td class='row_index'>0</td><td>AL</td><td>40</td></tr>\n",
       "    <tr><td class='row_index'>1</td><td>AR</td><td>37</td></tr>\n",
       "    <tr><td class='row_index'>2</td><td>AZ</td><td>46</td></tr>\n",
       "    <tr><td class='row_index'>3</td><td>CA</td><td>161</td></tr>\n",
       "    <tr><td class='row_index'>4</td><td>CO</td><td>62</td></tr>\n",
       "    <tr><td class='row_index'>5</td><td>CT</td><td>10</td></tr>\n",
       "    <tr><td class='row_index'>6</td><td>DE</td><td>4</td></tr>\n",
       "    <tr><td class='row_index'>7</td><td>FL</td><td>93</td></tr>\n",
       "    <tr><td class='row_index'>8</td><td>GA</td><td>63</td></tr>\n",
       "    <tr><td class='row_index'>9</td><td>IA</td><td>61</td></tr>\n",
       "    <tr><td class='row_index'>10</td><td>ID</td><td>30</td></tr>\n",
       "    <tr><td class='row_index'>11</td><td>IL</td><td>64</td></tr>\n",
       "    <tr><td class='row_index'>12</td><td>IN</td><td>35</td></tr>\n",
       "    <tr><td class='row_index'>13</td><td>KS</td><td>37</td></tr>\n",
       "    <tr><td class='row_index'>14</td><td>KY</td><td>27</td></tr>\n",
       "    <tr><td class='row_index'>&#x22EE;</td><td class='hellipsis'>&#x22EE;</td><td class='hellipsis'>&#x22EE;</td></tr>\n",
       "    <tr><td class='row_index'>43</td><td>VT</td><td>11</td></tr>\n",
       "    <tr><td class='row_index'>44</td><td>WA</td><td>49</td></tr>\n",
       "    <tr><td class='row_index'>45</td><td>WI</td><td>63</td></tr>\n",
       "    <tr><td class='row_index'>46</td><td>WV</td><td>20</td></tr>\n",
       "    <tr><td class='row_index'>47</td><td>WY</td><td>34</td></tr>\n",
       "  </tbody>\n",
       "  </table>\n",
       "  <div class='footer'>\n",
       "    <div class='frame_dimensions'>48 rows &times; 2 columns</div>\n",
       "  </div>\n",
       "</div>\n"
      ],
      "text/plain": [
       "<Frame [48 rows x 2 cols]>"
      ]
     },
     "execution_count": 5,
     "metadata": {},
     "output_type": "execute_result"
    }
   ],
   "source": [
    "# Total number of records per state\n",
    "st_us[:, {'total' : dt.count()}, dt.by('STATE')]\n"
   ]
  },
  {
   "cell_type": "code",
   "execution_count": 6,
   "metadata": {},
   "outputs": [],
   "source": [
    "# Further operations\n",
    "st_us[:, 'BEGIN_YR'] = np.floor(st_us[:, dt.f.BEGIN/10000.0])\n",
    "st_us[:, 'END_YR']   = np.floor(st_us[:, dt.f.END/10000.0])\n",
    "st_us[:, 'USAF']     = np.int64(\n",
    "    np.where(\n",
    "        st_us[:,dt.f.USAF.re_match('^[a-zA-Z].+')],\n",
    "        -9999,\n",
    "        st_us[:,dt.f.USAF]\n",
    "    )\n",
    ")\n",
    "st_us = st_us[dt.f.USAF >= 0, :]"
   ]
  },
  {
   "cell_type": "code",
   "execution_count": 7,
   "metadata": {},
   "outputs": [
    {
     "data": {
      "text/html": [
       "<div class='datatable'>\n",
       "  <table class='frame'>\n",
       "  <thead>\n",
       "    <tr class='colnames'><td class='row_index'></td><th>USAF</th><th>WBAN</th><th>STATION NAME</th><th>CTRY</th><th>STATE</th><th>ICAO</th><th>LAT</th><th>LON</th><th>ELEV(M)</th><th>BEGIN</th><th>END</th><th>BEGIN_YR</th><th>END_YR</th></tr>\n",
       "    <tr class='coltypes'><td class='row_index'></td><td class='integer' title='int64'>&#x25AA;&#x25AA;&#x25AA;&#x25AA;&#x25AA;&#x25AA;&#x25AA;&#x25AA;</td><td class='integer' title='int32'>&#x25AA;&#x25AA;&#x25AA;&#x25AA;</td><td class='string' title='str32'>&#x25AA;&#x25AA;&#x25AA;&#x25AA;</td><td class='string' title='str32'>&#x25AA;&#x25AA;&#x25AA;&#x25AA;</td><td class='string' title='str32'>&#x25AA;&#x25AA;&#x25AA;&#x25AA;</td><td class='string' title='str32'>&#x25AA;&#x25AA;&#x25AA;&#x25AA;</td><td class='float' title='float64'>&#x25AA;&#x25AA;&#x25AA;&#x25AA;&#x25AA;&#x25AA;&#x25AA;&#x25AA;</td><td class='float' title='float64'>&#x25AA;&#x25AA;&#x25AA;&#x25AA;&#x25AA;&#x25AA;&#x25AA;&#x25AA;</td><td class='float' title='float64'>&#x25AA;&#x25AA;&#x25AA;&#x25AA;&#x25AA;&#x25AA;&#x25AA;&#x25AA;</td><td class='integer' title='int32'>&#x25AA;&#x25AA;&#x25AA;&#x25AA;</td><td class='integer' title='int32'>&#x25AA;&#x25AA;&#x25AA;&#x25AA;</td><td class='float' title='float64'>&#x25AA;&#x25AA;&#x25AA;&#x25AA;&#x25AA;&#x25AA;&#x25AA;&#x25AA;</td><td class='float' title='float64'>&#x25AA;&#x25AA;&#x25AA;&#x25AA;&#x25AA;&#x25AA;&#x25AA;&#x25AA;</td></tr>\n",
       "  </thead>\n",
       "  <tbody>\n",
       "    <tr><td class='row_index'>0</td><td>690150</td><td>93121</td><td>TWENTY NINE PALMS</td><td>US</td><td>CA</td><td>KNXP</td><td>34.3</td><td>&minus;116.167</td><td>625.1</td><td>19900102</td><td>20200804</td><td>1990</td><td>2020</td></tr>\n",
       "    <tr><td class='row_index'>1</td><td>690190</td><td>13910</td><td>ABILENE DYESS AFB</td><td>US</td><td>TX</td><td>KDYS</td><td>32.433</td><td>&minus;99.85</td><td>545.3</td><td>19431201</td><td>20091231</td><td>1943</td><td>2009</td></tr>\n",
       "    <tr><td class='row_index'>2</td><td>690230</td><td>24255</td><td>WHIDBEY ISLAND NAS</td><td>US</td><td>WA</td><td>KNUW</td><td>48.35</td><td>&minus;122.667</td><td>14.3</td><td>19891201</td><td>20090602</td><td>1989</td><td>2009</td></tr>\n",
       "    <tr><td class='row_index'>3</td><td>699604</td><td>3145</td><td>YUMA MCAS</td><td>US</td><td>AZ</td><td>KNYL</td><td>32.65</td><td>&minus;114.617</td><td>64.9</td><td>19870701</td><td>20091231</td><td>1987</td><td>2009</td></tr>\n",
       "    <tr><td class='row_index'>4</td><td>720110</td><td>53983</td><td>LLANO MUNICIPAL AIRPORT</td><td>US</td><td>TX</td><td>KAQO</td><td>30.784</td><td>&minus;98.662</td><td>335.9</td><td>20050101</td><td>20200804</td><td>2005</td><td>2020</td></tr>\n",
       "    <tr><td class='row_index'>5</td><td>720113</td><td>54829</td><td>OAKLAND/TROY AIRPORT</td><td>US</td><td>MI</td><td>KVLL</td><td>42.543</td><td>&minus;83.178</td><td>218.2</td><td>20050101</td><td>20200804</td><td>2005</td><td>2020</td></tr>\n",
       "    <tr><td class='row_index'>6</td><td>720120</td><td>63837</td><td>HILTON HEAD AIRPORT</td><td>US</td><td>SC</td><td>KHXD</td><td>32.217</td><td>&minus;80.7</td><td>7.3</td><td>20060101</td><td>20200804</td><td>2006</td><td>2020</td></tr>\n",
       "    <tr><td class='row_index'>7</td><td>720137</td><td>4867</td><td>MORS MUNI-J.R. WSBRN FD AP</td><td>US</td><td>IL</td><td>KC09</td><td>41.425</td><td>&minus;88.419</td><td>178</td><td>20060101</td><td>20200804</td><td>2006</td><td>2020</td></tr>\n",
       "    <tr><td class='row_index'>8</td><td>720141</td><td>4868</td><td>MARSHALL CO</td><td>US</td><td>IL</td><td>KC75</td><td>41.019</td><td>&minus;89.386</td><td>173.1</td><td>20060101</td><td>20130430</td><td>2006</td><td>2013</td></tr>\n",
       "    <tr><td class='row_index'>9</td><td>720151</td><td>3049</td><td>ALPINE-CASPARIS MUNI ARPT</td><td>US</td><td>TX</td><td>KE38</td><td>30.383</td><td>&minus;103.683</td><td>1375.6</td><td>20060101</td><td>20200804</td><td>2006</td><td>2020</td></tr>\n",
       "    <tr><td class='row_index'>10</td><td>720160</td><td>63884</td><td>KEE FLD</td><td>US</td><td>WV</td><td>KI16</td><td>37.601</td><td>&minus;81.559</td><td>543.5</td><td>20060101</td><td>20130501</td><td>2006</td><td>2013</td></tr>\n",
       "    <tr><td class='row_index'>11</td><td>720170</td><td>63851</td><td>METROPOLIS MUNICIPAL AIRPORT</td><td>US</td><td>IL</td><td>KM30</td><td>37.186</td><td>&minus;88.751</td><td>117</td><td>20060101</td><td>20200804</td><td>2006</td><td>2020</td></tr>\n",
       "    <tr><td class='row_index'>12</td><td>720172</td><td>53996</td><td>MENA INTERMOUNTAIN MUNICIPAL AIRPORT</td><td>US</td><td>AR</td><td>KMEZ</td><td>34.545</td><td>&minus;94.203</td><td>328.9</td><td>20060101</td><td>20200804</td><td>2006</td><td>2020</td></tr>\n",
       "    <tr><td class='row_index'>13</td><td>720175</td><td>53919</td><td>MONTCELO MUNI/ELLIS FLD AP</td><td>US</td><td>AR</td><td>KLLQ</td><td>33.636</td><td>&minus;91.756</td><td>88.4</td><td>20050101</td><td>20200804</td><td>2005</td><td>2020</td></tr>\n",
       "    <tr><td class='row_index'>14</td><td>720198</td><td>54813</td><td>MUNISING LAKESHORE</td><td>US</td><td>MI</td><td>KP53</td><td>46.417</td><td>&minus;86.65</td><td>186.5</td><td>20060101</td><td>20200804</td><td>2006</td><td>2020</td></tr>\n",
       "    <tr><td class='row_index'>&#x22EE;</td><td class='hellipsis'>&#x22EE;</td><td class='hellipsis'>&#x22EE;</td><td class='hellipsis'>&#x22EE;</td><td class='hellipsis'>&#x22EE;</td><td class='hellipsis'>&#x22EE;</td><td class='hellipsis'>&#x22EE;</td><td class='hellipsis'>&#x22EE;</td><td class='hellipsis'>&#x22EE;</td><td class='hellipsis'>&#x22EE;</td><td class='hellipsis'>&#x22EE;</td><td class='hellipsis'>&#x22EE;</td><td class='hellipsis'>&#x22EE;</td><td class='hellipsis'>&#x22EE;</td></tr>\n",
       "    <tr><td class='row_index'>1832</td><td>747940</td><td>12868</td><td>COCOA BEACH CAPE KENNEDY AFS</td><td>US</td><td>FL</td><td>KXMR</td><td>28.483</td><td>&minus;80.567</td><td>3.1</td><td>19500801</td><td>20200805</td><td>1950</td><td>2020</td></tr>\n",
       "    <tr><td class='row_index'>1833</td><td>747946</td><td>12886</td><td>KENNEDY SPACE CENTER</td><td>US</td><td>FL</td><td>KTTS</td><td>28.617</td><td>&minus;80.683</td><td>3.1</td><td>20060101</td><td>20200805</td><td>2006</td><td>2020</td></tr>\n",
       "    <tr><td class='row_index'>1834</td><td>747950</td><td>12867</td><td>PATRICK AFB AIRPORT</td><td>US</td><td>FL</td><td>KCOF</td><td>28.233</td><td>&minus;80.6</td><td>2.4</td><td>19450301</td><td>20200805</td><td>1945</td><td>2020</td></tr>\n",
       "    <tr><td class='row_index'>1835</td><td>749171</td><td>479</td><td>TEHACHAPI MUNICIPAL AIRPORT</td><td>US</td><td>CA</td><td>KTSP</td><td>35.135</td><td>&minus;118.439</td><td>1219.5</td><td>20091209</td><td>20200804</td><td>2009</td><td>2020</td></tr>\n",
       "    <tr><td class='row_index'>1836</td><td>749179</td><td>392</td><td>HOLLISTER MUNICIPAL AIRPORT</td><td>US</td><td>CA</td><td>KCVH</td><td>36.9</td><td>&minus;121.417</td><td>72.2</td><td>20090201</td><td>20200804</td><td>2009</td><td>2020</td></tr>\n",
       "  </tbody>\n",
       "  </table>\n",
       "  <div class='footer'>\n",
       "    <div class='frame_dimensions'>1837 rows &times; 13 columns</div>\n",
       "  </div>\n",
       "</div>\n"
      ],
      "text/plain": [
       "<Frame [1837 rows x 13 cols]>"
      ]
     },
     "execution_count": 7,
     "metadata": {},
     "output_type": "execute_result"
    }
   ],
   "source": [
    "st_us[(dt.f.END_YR >= 2009) & (dt.f.BEGIN_YR <= 2009),:]"
   ]
  },
  {
   "cell_type": "markdown",
   "metadata": {},
   "source": [
    "Preparing to fetch the data from the ncda.noaa FTP site. In order to do this, we need to:\n",
    "\n",
    "1. Create an ftp connection using the `ftblib` from the standard library. This also needs to login\n",
    "\n",
    "2. Once in, we can go to the corresponding directory, try to get the data and save it in a tempfile using `tempfile.NamedTemporaryFile` from the standard library.\n",
    "\n",
    "3. List the column widths (`cwidths`) and names (`cnames`) so we can pass this information to `pandas`' `fwf_read`.\n",
    "    \n",
    "4. We apply some data processing and append the resulting dataset to the complete set."
   ]
  },
  {
   "cell_type": "code",
   "execution_count": 8,
   "metadata": {},
   "outputs": [],
   "source": [
    "cwidths = [4, 6, 5, 4, 2, 2, 2, 2, 1, 6, 7, 5, 5, 5, 4, 3, 1, 1, 4, 1, 5, 1, 1, 1, 6, 1, 1, 1, 5, 1, 5, 1, 5, 1]\n",
    "cnames  = [\"ID\",\"USAFID\", \"WBAN\", \"year\", \"month\",\"day\", \"hour\", \"min\",\"srcflag\", \"lat\",\n",
    "  \"lon\", \"typecode\",\"elev\",\"callid\",\"qcname\",\"wind.dir\", \"wind.dir.qc\", \n",
    "  \"wind.type.code\",\"wind.sp\",\"wind.sp.qc\", \"ceiling.ht\",\"ceiling.ht.qc\",\n",
    "  \"ceiling.ht.method\",\"sky.cond\",\"vis.dist\",\"vis.dist.qc\",\"vis.var\",\"vis.var.qc\",\n",
    "  \"temp\",\"temp.qc\", \"dew.point\",\"dew.point.qc\",\"atm.press\",\"atm.press.qc\"]\n"
   ]
  },
  {
   "cell_type": "code",
   "execution_count": 9,
   "metadata": {
    "scrolled": false
   },
   "outputs": [
    {
     "name": "stdout",
     "output_type": "stream",
     "text": [
      "Record 0/1837 for year 2009 done.\n",
      "Record 1/1837 for year 2009 done.\n",
      "Record 2/1837 for year 2009 done.\n",
      "Record 3/1837 for year 2009 done.\n",
      "Record 4/1837 for year 2009 done.\n",
      "Record 5/1837 for year 2009 done.\n",
      "Record 6/1837 for year 2009 done.\n",
      "Record 7/1837 for year 2009 done.\n",
      "Record 8/1837 for year 2009 done.\n",
      "Record 9/1837 for year 2009 done.\n"
     ]
    },
    {
     "data": {
      "text/plain": [
       "'221 Goodbye.'"
      ]
     },
     "execution_count": 9,
     "metadata": {},
     "output_type": "execute_result"
    }
   ],
   "source": [
    "\n",
    "# Opening the FTP connection\n",
    "ftp = ftplib.FTP(\"ftp.ncdc.noaa.gov\");      \n",
    "ftp.login();\n",
    "\n",
    "met_all = dt.Frame(None);\n",
    "for y in [2009]:\n",
    "    \n",
    "    y_list =  st_us[(dt.f.BEGIN_YR <= y) & (dt.f.END_YR >= y), :];\n",
    "\n",
    "    # We won't run the entire loop, it would take too long to do so\n",
    "    for s in range(0, 10): # y_list.nrows\n",
    "                \n",
    "        tmp = tempfile.NamedTemporaryFile(suffix=\".gz\");\n",
    "        \n",
    "        # Trying to get the data\n",
    "        is_error = False;\n",
    "        # Building filename\n",
    "        fn = \"%s-%05d-%i.gz\" % (y_list[s,\"USAF\"], y_list[s,\"WBAN\"], y);\n",
    "        try:\n",
    "            \n",
    "            ftp.cwd(\"/pub/data/noaa/%i/\" % y)\n",
    "                        \n",
    "            with open(tmp.name, \"wb\") as f:\n",
    "                ftp.retrbinary(\"RETR \" + fn, f.write)\n",
    "            \n",
    "        except:\n",
    "            is_error = True;\n",
    "            \n",
    "        if is_error:\n",
    "            \n",
    "            print(\"The file for year \" + str(y) + \" row number \" + str(s) +\n",
    "                 \" failed to download. file name: \" + str(fn))\n",
    "            continue\n",
    "            \n",
    "        # Reading the data\n",
    "        tmpdat = dt.Frame(pd.read_fwf(tmp.name, widths = cwidths, names = cnames))\n",
    "        \n",
    "        # Right data types\n",
    "\n",
    "        # Alternative way (in-place update). This only uses datatable.\n",
    "        tmpdat[:, dt.update(year = dt.int32(dt.f.year))] \n",
    "\n",
    "        # Another way to do the same thing\n",
    "        tmpdat[:, \"month\"]     = np.int32(tmpdat[:, \"month\"])\n",
    "        tmpdat[:, \"day\"]       = np.int32(tmpdat[:, \"day\"])\n",
    "        tmpdat[:, \"hour\"]      = np.int32(tmpdat[:, \"hour\"])\n",
    "        tmpdat[:, \"lat\"]       = np.int32(tmpdat[:, \"lat\"])\n",
    "        tmpdat[:, \"lon\"]       = np.int32(tmpdat[:, \"lon\"])\n",
    "        tmpdat[:, \"elev\"]      = np.int32(tmpdat[:, \"elev\"])\n",
    "        tmpdat[:, \"wind.sp\"]   = np.int32(tmpdat[:, \"wind.sp\"])\n",
    "        tmpdat[:, \"atm.press\"] = np.int32(tmpdat[:, \"atm.press\"])\n",
    "\n",
    "        # Changing 9999, 99999, 999999 to NA\n",
    "\n",
    "        tmpdat[dt.f[\"wind.dir\"]   == 999, \"wind.dir\"]     = None\n",
    "        tmpdat[dt.f[\"wind.sp\"]    == 9999, \"wind.sp\"]     = None\n",
    "        tmpdat[dt.f[\"ceiling.ht\"] == 99999, \"ceiling.ht\"] = None\n",
    "        tmpdat[dt.f[\"vis.dist\"]   == 99999, \"vis.dist\"]   = None\n",
    "        tmpdat[dt.f[\"temp\"]       == 9999, \"temp\"]        = None\n",
    "        tmpdat[dt.f[\"dew.point\"]  == 9999, \"dew.point\"]   = None\n",
    "        tmpdat[dt.f[\"atm.press\"]  == 99999, \"atm.press\"]  = None\n",
    "\n",
    "        # conversions and scaling factors\n",
    "        tmpdat[:,\"lat\"]       = tmpdat[:,dt.f.lat/1000]\n",
    "        tmpdat[:,\"lon\"]       = tmpdat[:,dt.f.lon/1000]\n",
    "        tmpdat[:,\"wind.sp\"]   = tmpdat[:,dt.f[\"wind.sp\"]/10]\n",
    "        tmpdat[:,\"temp\"]      = tmpdat[:,dt.f.temp/10]\n",
    "        tmpdat[:,\"dew.point\"] = tmpdat[:,dt.f[\"dew.point\"]/10]\n",
    "        tmpdat[:,\"atm.press\"] = tmpdat[:,dt.f[\"atm.press\"]/10]\n",
    "        tmpdat[:,\"rh\"]        = tmpdat[:,100*((112-0.1*dt.f.temp + dt.f[\"dew.point\"])/(112+0.9 * dt.f.temp))**8]\n",
    "        tmpdat\n",
    "\n",
    "        # Removing columns\n",
    "        del tmpdat[:, [\"ID\", \"srcflag\", \"typecode\", \"callid\", \"qcname\"]]\n",
    "        met_all.rbind(tmpdat[dt.f.month == 8,:])\n",
    "        \n",
    "        met_all.rbind(tmpdat)\n",
    "        \n",
    "        print(\"Record %i/%i for year %i done.\" % (s, y_list.nrows, y))\n",
    "ftp.quit()"
   ]
  },
  {
   "cell_type": "markdown",
   "metadata": {},
   "source": [
    "Finally, we check the shape of the `Frame` (number of rows and columns) using the `shape` attribute. This is a common attribute in python (arrays, numpy, pandas have the same attribute)."
   ]
  },
  {
   "cell_type": "code",
   "execution_count": 10,
   "metadata": {},
   "outputs": [
    {
     "name": "stdout",
     "output_type": "stream",
     "text": [
      "(198136, 30)\n"
     ]
    }
   ],
   "source": [
    "print(str(met_all.shape))\n",
    "met_all.to_csv(\"met_200_python.gz\", compression=\"gzip\")"
   ]
  },
  {
   "cell_type": "code",
   "execution_count": 11,
   "metadata": {
    "scrolled": true
   },
   "outputs": [],
   "source": [
    "# Does it read?\n",
    "dat2 = dt.fread(\"met_200_python.gz\")"
   ]
  },
  {
   "cell_type": "code",
   "execution_count": 12,
   "metadata": {},
   "outputs": [
    {
     "data": {
      "text/html": [
       "<div class='datatable'>\n",
       "  <table class='frame'>\n",
       "  <thead>\n",
       "    <tr class='colnames'><td class='row_index'></td><th>USAFID</th><th>WBAN</th><th>year</th><th>month</th><th>day</th><th>hour</th><th>min</th><th>lat</th><th>lon</th><th>elev</th><th class='vellipsis'>&hellip;</th><th>dew.point</th><th>dew.point.qc</th><th>atm.press</th><th>atm.press.qc</th><th>rh</th></tr>\n",
       "    <tr class='coltypes'><td class='row_index'></td><td class='integer' title='int32'>&#x25AA;&#x25AA;&#x25AA;&#x25AA;</td><td class='integer' title='int32'>&#x25AA;&#x25AA;&#x25AA;&#x25AA;</td><td class='integer' title='int32'>&#x25AA;&#x25AA;&#x25AA;&#x25AA;</td><td class='integer' title='int32'>&#x25AA;&#x25AA;&#x25AA;&#x25AA;</td><td class='integer' title='int32'>&#x25AA;&#x25AA;&#x25AA;&#x25AA;</td><td class='integer' title='int32'>&#x25AA;&#x25AA;&#x25AA;&#x25AA;</td><td class='integer' title='int32'>&#x25AA;&#x25AA;&#x25AA;&#x25AA;</td><td class='float' title='float64'>&#x25AA;&#x25AA;&#x25AA;&#x25AA;&#x25AA;&#x25AA;&#x25AA;&#x25AA;</td><td class='float' title='float64'>&#x25AA;&#x25AA;&#x25AA;&#x25AA;&#x25AA;&#x25AA;&#x25AA;&#x25AA;</td><td class='integer' title='int32'>&#x25AA;&#x25AA;&#x25AA;&#x25AA;</td><td></td><td class='float' title='float64'>&#x25AA;&#x25AA;&#x25AA;&#x25AA;&#x25AA;&#x25AA;&#x25AA;&#x25AA;</td><td class='string' title='str32'>&#x25AA;&#x25AA;&#x25AA;&#x25AA;</td><td class='float' title='float64'>&#x25AA;&#x25AA;&#x25AA;&#x25AA;&#x25AA;&#x25AA;&#x25AA;&#x25AA;</td><td class='integer' title='int32'>&#x25AA;&#x25AA;&#x25AA;&#x25AA;</td><td class='float' title='float64'>&#x25AA;&#x25AA;&#x25AA;&#x25AA;&#x25AA;&#x25AA;&#x25AA;&#x25AA;</td></tr>\n",
       "  </thead>\n",
       "  <tbody>\n",
       "    <tr><td class='row_index'>0</td><td>690150</td><td>93121</td><td>2009</td><td>8</td><td>1</td><td>0</td><td>29</td><td>34.3</td><td>&minus;116.16</td><td>696</td><td class=vellipsis>&hellip;</td><td>4</td><td>5</td><td><span class=na>NA</span></td><td>9</td><td>11.3748</td></tr>\n",
       "    <tr><td class='row_index'>1</td><td>690150</td><td>93121</td><td>2009</td><td>8</td><td>1</td><td>0</td><td>56</td><td>34.3</td><td>&minus;116.16</td><td>696</td><td class=vellipsis>&hellip;</td><td>3.9</td><td>5</td><td>1008.4</td><td>5</td><td>11.747</td></tr>\n",
       "    <tr><td class='row_index'>2</td><td>690150</td><td>93121</td><td>2009</td><td>8</td><td>1</td><td>1</td><td>56</td><td>34.3</td><td>&minus;116.16</td><td>696</td><td class=vellipsis>&hellip;</td><td>3.3</td><td>5</td><td>1008.6</td><td>5</td><td>11.9747</td></tr>\n",
       "    <tr><td class='row_index'>3</td><td>690150</td><td>93121</td><td>2009</td><td>8</td><td>1</td><td>2</td><td>56</td><td>34.3</td><td>&minus;116.16</td><td>696</td><td class=vellipsis>&hellip;</td><td>3.3</td><td>5</td><td>1009</td><td>5</td><td>13.5744</td></tr>\n",
       "    <tr><td class='row_index'>4</td><td>690150</td><td>93121</td><td>2009</td><td>8</td><td>1</td><td>3</td><td>56</td><td>34.3</td><td>&minus;116.16</td><td>696</td><td class=vellipsis>&hellip;</td><td>2.2</td><td>5</td><td>1009.5</td><td>5</td><td>13.3619</td></tr>\n",
       "    <tr><td class='row_index'>5</td><td>690150</td><td>93121</td><td>2009</td><td>8</td><td>1</td><td>4</td><td>56</td><td>34.3</td><td>&minus;116.16</td><td>696</td><td class=vellipsis>&hellip;</td><td>2.8</td><td>5</td><td>1010.2</td><td>5</td><td>15.3968</td></tr>\n",
       "    <tr><td class='row_index'>6</td><td>690150</td><td>93121</td><td>2009</td><td>8</td><td>1</td><td>5</td><td>56</td><td>34.3</td><td>&minus;116.16</td><td>696</td><td class=vellipsis>&hellip;</td><td>1.1</td><td>5</td><td>1010.6</td><td>5</td><td>13.1495</td></tr>\n",
       "    <tr><td class='row_index'>7</td><td>690150</td><td>93121</td><td>2009</td><td>8</td><td>1</td><td>6</td><td>56</td><td>34.3</td><td>&minus;116.16</td><td>696</td><td class=vellipsis>&hellip;</td><td>1.1</td><td>5</td><td>1010.5</td><td>5</td><td>14.5228</td></tr>\n",
       "    <tr><td class='row_index'>8</td><td>690150</td><td>93121</td><td>2009</td><td>8</td><td>1</td><td>7</td><td>56</td><td>34.3</td><td>&minus;116.16</td><td>696</td><td class=vellipsis>&hellip;</td><td>0.6</td><td>5</td><td>1010.6</td><td>5</td><td>16.5275</td></tr>\n",
       "    <tr><td class='row_index'>9</td><td>690150</td><td>93121</td><td>2009</td><td>8</td><td>1</td><td>8</td><td>56</td><td>34.3</td><td>&minus;116.16</td><td>696</td><td class=vellipsis>&hellip;</td><td>0.6</td><td>5</td><td>1010.8</td><td>5</td><td>16.5275</td></tr>\n",
       "    <tr><td class='row_index'>10</td><td>690150</td><td>93121</td><td>2009</td><td>8</td><td>1</td><td>9</td><td>56</td><td>34.3</td><td>&minus;116.16</td><td>696</td><td class=vellipsis>&hellip;</td><td>1.1</td><td>5</td><td>1010.7</td><td>5</td><td>18.8634</td></tr>\n",
       "    <tr><td class='row_index'>11</td><td>690150</td><td>93121</td><td>2009</td><td>8</td><td>1</td><td>10</td><td>56</td><td>34.3</td><td>&minus;116.16</td><td>696</td><td class=vellipsis>&hellip;</td><td>1.1</td><td>5</td><td>1010.8</td><td>5</td><td>21.6832</td></tr>\n",
       "    <tr><td class='row_index'>12</td><td>690150</td><td>93121</td><td>2009</td><td>8</td><td>1</td><td>11</td><td>56</td><td>34.3</td><td>&minus;116.16</td><td>696</td><td class=vellipsis>&hellip;</td><td>0.6</td><td>5</td><td>1011.1</td><td>5</td><td>20.9117</td></tr>\n",
       "    <tr><td class='row_index'>13</td><td>690150</td><td>93121</td><td>2009</td><td>8</td><td>1</td><td>12</td><td>56</td><td>34.3</td><td>&minus;116.16</td><td>696</td><td class=vellipsis>&hellip;</td><td>1.1</td><td>5</td><td>1011.6</td><td>5</td><td>20.9056</td></tr>\n",
       "    <tr><td class='row_index'>14</td><td>690150</td><td>93121</td><td>2009</td><td>8</td><td>1</td><td>13</td><td>56</td><td>34.3</td><td>&minus;116.16</td><td>696</td><td class=vellipsis>&hellip;</td><td>1.7</td><td>5</td><td>1012.3</td><td>5</td><td>21.0506</td></tr>\n",
       "    <tr><td class='row_index'>&#x22EE;</td><td class='hellipsis'>&#x22EE;</td><td class='hellipsis'>&#x22EE;</td><td class='hellipsis'>&#x22EE;</td><td class='hellipsis'>&#x22EE;</td><td class='hellipsis'>&#x22EE;</td><td class='hellipsis'>&#x22EE;</td><td class='hellipsis'>&#x22EE;</td><td class='hellipsis'>&#x22EE;</td><td class='hellipsis'>&#x22EE;</td><td class='hellipsis'>&#x22EE;</td><td class='hellipsis'>&#x22F1;</td><td class='hellipsis'>&#x22EE;</td><td class='hellipsis'>&#x22EE;</td><td class='hellipsis'>&#x22EE;</td><td class='hellipsis'>&#x22EE;</td><td class='hellipsis'>&#x22EE;</td></tr>\n",
       "    <tr><td class='row_index'>198,131</td><td>720151</td><td>3049</td><td>2009</td><td>12</td><td>31</td><td>22</td><td>25</td><td>30.384</td><td>&minus;103.68</td><td>1315</td><td class=vellipsis>&hellip;</td><td>&minus;4.6</td><td>5</td><td><span class=na>NA</span></td><td>9</td><td>44.0968</td></tr>\n",
       "    <tr><td class='row_index'>198,132</td><td>720151</td><td>3049</td><td>2009</td><td>12</td><td>31</td><td>22</td><td>45</td><td>30.384</td><td>&minus;103.68</td><td>1315</td><td class=vellipsis>&hellip;</td><td>&minus;4.5</td><td>5</td><td><span class=na>NA</span></td><td>9</td><td>46.9342</td></tr>\n",
       "    <tr><td class='row_index'>198,133</td><td>720151</td><td>3049</td><td>2009</td><td>12</td><td>31</td><td>23</td><td>5</td><td>30.384</td><td>&minus;103.68</td><td>1315</td><td class=vellipsis>&hellip;</td><td>&minus;4</td><td>5</td><td><span class=na>NA</span></td><td>9</td><td>50.4259</td></tr>\n",
       "    <tr><td class='row_index'>198,134</td><td>720151</td><td>3049</td><td>2009</td><td>12</td><td>31</td><td>23</td><td>25</td><td>30.384</td><td>&minus;103.68</td><td>1315</td><td class=vellipsis>&hellip;</td><td>&minus;4.1</td><td>5</td><td><span class=na>NA</span></td><td>9</td><td>54.012</td></tr>\n",
       "    <tr><td class='row_index'>198,135</td><td>720151</td><td>3049</td><td>2009</td><td>12</td><td>31</td><td>23</td><td>45</td><td>30.384</td><td>&minus;103.68</td><td>1315</td><td class=vellipsis>&hellip;</td><td>&minus;3.8</td><td>5</td><td><span class=na>NA</span></td><td>9</td><td>59.2174</td></tr>\n",
       "  </tbody>\n",
       "  </table>\n",
       "  <div class='footer'>\n",
       "    <div class='frame_dimensions'>198,136 rows &times; 30 columns</div>\n",
       "  </div>\n",
       "</div>\n"
      ],
      "text/plain": [
       "<Frame [198136 rows x 30 cols]>"
      ]
     },
     "execution_count": 12,
     "metadata": {},
     "output_type": "execute_result"
    }
   ],
   "source": [
    "dat2"
   ]
  },
  {
   "cell_type": "markdown",
   "metadata": {},
   "source": [
    "And we are done!"
   ]
  }
 ],
 "metadata": {
  "kernelspec": {
   "display_name": "Python 3",
   "language": "python",
   "name": "python3"
  },
  "language_info": {
   "codemirror_mode": {
    "name": "ipython",
    "version": 3
   },
   "file_extension": ".py",
   "mimetype": "text/x-python",
   "name": "python",
   "nbconvert_exporter": "python",
   "pygments_lexer": "ipython3",
   "version": "3.6.9"
  }
 },
 "nbformat": 4,
 "nbformat_minor": 4
}
