{
 "cells": [
  {
   "cell_type": "markdown",
   "metadata": {},
   "source": [
    "# Reading the data"
   ]
  },
  {
   "cell_type": "code",
   "execution_count": 14,
   "metadata": {},
   "outputs": [],
   "source": [
    "import datatable as dt\n",
    "import numpy as np"
   ]
  },
  {
   "cell_type": "code",
   "execution_count": 18,
   "metadata": {},
   "outputs": [
    {
     "data": {
      "text/html": [
       "<div class='datatable'>\n",
       "  <table class='frame'>\n",
       "  <thead>\n",
       "    <tr class='colnames'><td class='row_index'></td><th>USAFID</th><th>WBAN</th><th>year</th><th>month</th><th>day</th><th>hour</th><th>min</th><th>lat</th><th>lon</th><th>elev</th><th class='vellipsis'>&hellip;</th><th>dew.point</th><th>dew.point.qc</th><th>atm.press</th><th>atm.press.qc</th><th>rh</th></tr>\n",
       "    <tr class='coltypes'><td class='row_index'></td><td class='integer' title='int32'>&#x25AA;&#x25AA;&#x25AA;&#x25AA;</td><td class='integer' title='int32'>&#x25AA;&#x25AA;&#x25AA;&#x25AA;</td><td class='integer' title='int32'>&#x25AA;&#x25AA;&#x25AA;&#x25AA;</td><td class='integer' title='int32'>&#x25AA;&#x25AA;&#x25AA;&#x25AA;</td><td class='integer' title='int32'>&#x25AA;&#x25AA;&#x25AA;&#x25AA;</td><td class='integer' title='int32'>&#x25AA;&#x25AA;&#x25AA;&#x25AA;</td><td class='integer' title='int32'>&#x25AA;&#x25AA;&#x25AA;&#x25AA;</td><td class='float' title='float64'>&#x25AA;&#x25AA;&#x25AA;&#x25AA;&#x25AA;&#x25AA;&#x25AA;&#x25AA;</td><td class='float' title='float64'>&#x25AA;&#x25AA;&#x25AA;&#x25AA;&#x25AA;&#x25AA;&#x25AA;&#x25AA;</td><td class='integer' title='int32'>&#x25AA;&#x25AA;&#x25AA;&#x25AA;</td><td></td><td class='float' title='float64'>&#x25AA;&#x25AA;&#x25AA;&#x25AA;&#x25AA;&#x25AA;&#x25AA;&#x25AA;</td><td class='string' title='str32'>&#x25AA;&#x25AA;&#x25AA;&#x25AA;</td><td class='float' title='float64'>&#x25AA;&#x25AA;&#x25AA;&#x25AA;&#x25AA;&#x25AA;&#x25AA;&#x25AA;</td><td class='integer' title='int32'>&#x25AA;&#x25AA;&#x25AA;&#x25AA;</td><td class='float' title='float64'>&#x25AA;&#x25AA;&#x25AA;&#x25AA;&#x25AA;&#x25AA;&#x25AA;&#x25AA;</td></tr>\n",
       "  </thead>\n",
       "  <tbody>\n",
       "    <tr><td class='row_index'>0</td><td>690150</td><td>93121</td><td>2019</td><td>8</td><td>1</td><td>0</td><td>56</td><td>34.3</td><td>&minus;116.166</td><td>696</td><td class=vellipsis>&hellip;</td><td>10.6</td><td>5</td><td>1009.9</td><td>5</td><td>19.8813</td></tr>\n",
       "    <tr><td class='row_index'>1</td><td>690150</td><td>93121</td><td>2019</td><td>8</td><td>1</td><td>1</td><td>56</td><td>34.3</td><td>&minus;116.166</td><td>696</td><td class=vellipsis>&hellip;</td><td>10.6</td><td>5</td><td>1010.3</td><td>5</td><td>21.761</td></tr>\n",
       "    <tr><td class='row_index'>2</td><td>690150</td><td>93121</td><td>2019</td><td>8</td><td>1</td><td>2</td><td>56</td><td>34.3</td><td>&minus;116.166</td><td>696</td><td class=vellipsis>&hellip;</td><td>7.2</td><td>5</td><td>1010.6</td><td>5</td><td>18.4821</td></tr>\n",
       "    <tr><td class='row_index'>3</td><td>690150</td><td>93121</td><td>2019</td><td>8</td><td>1</td><td>3</td><td>56</td><td>34.3</td><td>&minus;116.166</td><td>696</td><td class=vellipsis>&hellip;</td><td>5</td><td>5</td><td>1011.6</td><td>5</td><td>16.8886</td></tr>\n",
       "    <tr><td class='row_index'>4</td><td>690150</td><td>93121</td><td>2019</td><td>8</td><td>1</td><td>4</td><td>56</td><td>34.3</td><td>&minus;116.166</td><td>696</td><td class=vellipsis>&hellip;</td><td>5</td><td>5</td><td>1012.7</td><td>5</td><td>17.3841</td></tr>\n",
       "  </tbody>\n",
       "  </table>\n",
       "  <div class='footer'>\n",
       "    <div class='frame_dimensions'>5 rows &times; 30 columns</div>\n",
       "  </div>\n",
       "</div>\n"
      ],
      "text/plain": [
       "<Frame [5 rows x 30 cols]>"
      ]
     },
     "execution_count": 18,
     "metadata": {},
     "output_type": "execute_result"
    }
   ],
   "source": [
    "dat = dt.fread(\"met.gz\")\n",
    "dat.head(5)"
   ]
  },
  {
   "cell_type": "markdown",
   "metadata": {},
   "source": [
    "# Selecting columns"
   ]
  },
  {
   "cell_type": "code",
   "execution_count": 12,
   "metadata": {},
   "outputs": [
    {
     "data": {
      "text/html": [
       "<div class='datatable'>\n",
       "  <table class='frame'>\n",
       "  <thead>\n",
       "    <tr class='colnames'><td class='row_index'></td><th>USAFID</th><th>lat</th><th>lon</th></tr>\n",
       "    <tr class='coltypes'><td class='row_index'></td><td class='integer' title='int32'>&#x25AA;&#x25AA;&#x25AA;&#x25AA;</td><td class='float' title='float64'>&#x25AA;&#x25AA;&#x25AA;&#x25AA;&#x25AA;&#x25AA;&#x25AA;&#x25AA;</td><td class='float' title='float64'>&#x25AA;&#x25AA;&#x25AA;&#x25AA;&#x25AA;&#x25AA;&#x25AA;&#x25AA;</td></tr>\n",
       "  </thead>\n",
       "  <tbody>\n",
       "    <tr><td class='row_index'>0</td><td>690150</td><td>34.3</td><td>&minus;116.166</td></tr>\n",
       "    <tr><td class='row_index'>1</td><td>690150</td><td>34.3</td><td>&minus;116.166</td></tr>\n",
       "    <tr><td class='row_index'>2</td><td>690150</td><td>34.3</td><td>&minus;116.166</td></tr>\n",
       "    <tr><td class='row_index'>3</td><td>690150</td><td>34.3</td><td>&minus;116.166</td></tr>\n",
       "    <tr><td class='row_index'>4</td><td>690150</td><td>34.3</td><td>&minus;116.166</td></tr>\n",
       "  </tbody>\n",
       "  </table>\n",
       "  <div class='footer'>\n",
       "    <div class='frame_dimensions'>5 rows &times; 3 columns</div>\n",
       "  </div>\n",
       "</div>\n"
      ],
      "text/plain": [
       "<Frame [5 rows x 3 cols]>"
      ]
     },
     "execution_count": 12,
     "metadata": {},
     "output_type": "execute_result"
    }
   ],
   "source": [
    "dat[:, [\"USAFID\", \"lat\", \"lon\"]].head(5)"
   ]
  },
  {
   "cell_type": "code",
   "execution_count": 13,
   "metadata": {},
   "outputs": [
    {
     "data": {
      "text/html": [
       "<div class='datatable'>\n",
       "  <table class='frame'>\n",
       "  <thead>\n",
       "    <tr class='colnames'><td class='row_index'></td><th>USAFID</th><th>WBAN</th><th>year</th><th>month</th><th>day</th><th>hour</th><th>min</th><th>lat</th><th>lon</th><th>elev</th><th>wind.sp</th><th>temp</th><th>atm.press</th></tr>\n",
       "    <tr class='coltypes'><td class='row_index'></td><td class='integer' title='int32'>&#x25AA;&#x25AA;&#x25AA;&#x25AA;</td><td class='integer' title='int32'>&#x25AA;&#x25AA;&#x25AA;&#x25AA;</td><td class='integer' title='int32'>&#x25AA;&#x25AA;&#x25AA;&#x25AA;</td><td class='integer' title='int32'>&#x25AA;&#x25AA;&#x25AA;&#x25AA;</td><td class='integer' title='int32'>&#x25AA;&#x25AA;&#x25AA;&#x25AA;</td><td class='integer' title='int32'>&#x25AA;&#x25AA;&#x25AA;&#x25AA;</td><td class='integer' title='int32'>&#x25AA;&#x25AA;&#x25AA;&#x25AA;</td><td class='float' title='float64'>&#x25AA;&#x25AA;&#x25AA;&#x25AA;&#x25AA;&#x25AA;&#x25AA;&#x25AA;</td><td class='float' title='float64'>&#x25AA;&#x25AA;&#x25AA;&#x25AA;&#x25AA;&#x25AA;&#x25AA;&#x25AA;</td><td class='integer' title='int32'>&#x25AA;&#x25AA;&#x25AA;&#x25AA;</td><td class='float' title='float64'>&#x25AA;&#x25AA;&#x25AA;&#x25AA;&#x25AA;&#x25AA;&#x25AA;&#x25AA;</td><td class='float' title='float64'>&#x25AA;&#x25AA;&#x25AA;&#x25AA;&#x25AA;&#x25AA;&#x25AA;&#x25AA;</td><td class='float' title='float64'>&#x25AA;&#x25AA;&#x25AA;&#x25AA;&#x25AA;&#x25AA;&#x25AA;&#x25AA;</td></tr>\n",
       "  </thead>\n",
       "  <tbody>\n",
       "    <tr><td class='row_index'>0</td><td>690150</td><td>93121</td><td>2019</td><td>8</td><td>1</td><td>0</td><td>56</td><td>34.3</td><td>&minus;116.166</td><td>696</td><td>5.7</td><td>37.2</td><td>1009.9</td></tr>\n",
       "    <tr><td class='row_index'>1</td><td>690150</td><td>93121</td><td>2019</td><td>8</td><td>1</td><td>1</td><td>56</td><td>34.3</td><td>&minus;116.166</td><td>696</td><td>8.2</td><td>35.6</td><td>1010.3</td></tr>\n",
       "    <tr><td class='row_index'>2</td><td>690150</td><td>93121</td><td>2019</td><td>8</td><td>1</td><td>2</td><td>56</td><td>34.3</td><td>&minus;116.166</td><td>696</td><td>6.7</td><td>34.4</td><td>1010.6</td></tr>\n",
       "    <tr><td class='row_index'>3</td><td>690150</td><td>93121</td><td>2019</td><td>8</td><td>1</td><td>3</td><td>56</td><td>34.3</td><td>&minus;116.166</td><td>696</td><td>5.1</td><td>33.3</td><td>1011.6</td></tr>\n",
       "  </tbody>\n",
       "  </table>\n",
       "  <div class='footer'>\n",
       "    <div class='frame_dimensions'>4 rows &times; 13 columns</div>\n",
       "  </div>\n",
       "</div>\n"
      ],
      "text/plain": [
       "<Frame [4 rows x 13 cols]>"
      ]
     },
     "execution_count": 13,
     "metadata": {},
     "output_type": "execute_result"
    }
   ],
   "source": [
    "dat = dat[:,[\n",
    "    \"USAFID\", \"WBAN\", \"year\", \"month\", \"day\", \"hour\", \"min\", \"lat\", \"lon\", \"elev\",\n",
    "    \"wind.sp\", \"temp\", \"atm.press\"\n",
    "]]\n",
    "dat.head(4)"
   ]
  },
  {
   "cell_type": "markdown",
   "metadata": {},
   "source": [
    "# Logical operators"
   ]
  },
  {
   "cell_type": "code",
   "execution_count": 1,
   "metadata": {},
   "outputs": [
    {
     "data": {
      "text/html": [
       "<div>\n",
       "<style scoped>\n",
       "    .dataframe tbody tr th:only-of-type {\n",
       "        vertical-align: middle;\n",
       "    }\n",
       "\n",
       "    .dataframe tbody tr th {\n",
       "        vertical-align: top;\n",
       "    }\n",
       "\n",
       "    .dataframe thead th {\n",
       "        text-align: right;\n",
       "    }\n",
       "</style>\n",
       "<table border=\"1\" class=\"dataframe\">\n",
       "  <thead>\n",
       "    <tr style=\"text-align: right;\">\n",
       "      <th></th>\n",
       "      <th>x</th>\n",
       "      <th>y</th>\n",
       "      <th>and</th>\n",
       "      <th>or</th>\n",
       "      <th>xor</th>\n",
       "    </tr>\n",
       "  </thead>\n",
       "  <tbody>\n",
       "    <tr>\n",
       "      <th>0</th>\n",
       "      <td>True</td>\n",
       "      <td>False</td>\n",
       "      <td>False</td>\n",
       "      <td>True</td>\n",
       "      <td>True</td>\n",
       "    </tr>\n",
       "    <tr>\n",
       "      <th>1</th>\n",
       "      <td>True</td>\n",
       "      <td>True</td>\n",
       "      <td>True</td>\n",
       "      <td>True</td>\n",
       "      <td>False</td>\n",
       "    </tr>\n",
       "    <tr>\n",
       "      <th>2</th>\n",
       "      <td>False</td>\n",
       "      <td>True</td>\n",
       "      <td>False</td>\n",
       "      <td>True</td>\n",
       "      <td>True</td>\n",
       "    </tr>\n",
       "    <tr>\n",
       "      <th>3</th>\n",
       "      <td>False</td>\n",
       "      <td>False</td>\n",
       "      <td>False</td>\n",
       "      <td>False</td>\n",
       "      <td>False</td>\n",
       "    </tr>\n",
       "  </tbody>\n",
       "</table>\n",
       "</div>"
      ],
      "text/plain": [
       "       x      y    and     or    xor\n",
       "0   True  False  False   True   True\n",
       "1   True   True   True   True  False\n",
       "2  False   True  False   True   True\n",
       "3  False  False  False  False  False"
      ]
     },
     "execution_count": 1,
     "metadata": {},
     "output_type": "execute_result"
    }
   ],
   "source": [
    "# Loading the libraries\n",
    "import numpy as np\n",
    "import pandas as pa\n",
    "\n",
    "# Defining the data\n",
    "x = [True, True, False, False]\n",
    "y = [False, True, True, False]\n",
    "ans = {\n",
    "    'x'   : x,\n",
    "    'y'   : y,\n",
    "    'and' : np.logical_and(x, y),\n",
    "    'or'  : np.logical_or(x, y),\n",
    "    'xor' : np.logical_xor(x, y)\n",
    "    }\n",
    "pa.DataFrame(ans)"
   ]
  },
  {
   "cell_type": "markdown",
   "metadata": {},
   "source": [
    "This is very different from how R defines a function. This function, which is an alternative implementation of the `xor` operator"
   ]
  },
  {
   "cell_type": "code",
   "execution_count": 2,
   "metadata": {},
   "outputs": [],
   "source": [
    "def myxor(x,y):\n",
    "    x1 = np.logical_and(x, np.logical_not(y))\n",
    "    x2 = np.logical_and(np.logical_not(x), y)\n",
    "    return np.logical_or(x1, x2)"
   ]
  },
  {
   "cell_type": "markdown",
   "metadata": {},
   "source": [
    "Can be defined in R as follows:\n",
    "\n",
    "```r\n",
    "myxor <- function(x,y) {\n",
    "    x1 <- x & !y\n",
    "    x2 <- !x & y\n",
    "    return(x1 | x2)\n",
    "}\n",
    "```\n",
    "\n",
    "Executing this function in python returns the following:"
   ]
  },
  {
   "cell_type": "code",
   "execution_count": 3,
   "metadata": {
    "scrolled": true
   },
   "outputs": [
    {
     "data": {
      "text/html": [
       "<div>\n",
       "<style scoped>\n",
       "    .dataframe tbody tr th:only-of-type {\n",
       "        vertical-align: middle;\n",
       "    }\n",
       "\n",
       "    .dataframe tbody tr th {\n",
       "        vertical-align: top;\n",
       "    }\n",
       "\n",
       "    .dataframe thead th {\n",
       "        text-align: right;\n",
       "    }\n",
       "</style>\n",
       "<table border=\"1\" class=\"dataframe\">\n",
       "  <thead>\n",
       "    <tr style=\"text-align: right;\">\n",
       "      <th></th>\n",
       "      <th>x</th>\n",
       "      <th>y</th>\n",
       "      <th>and</th>\n",
       "      <th>or</th>\n",
       "      <th>xor</th>\n",
       "      <th>myxor</th>\n",
       "    </tr>\n",
       "  </thead>\n",
       "  <tbody>\n",
       "    <tr>\n",
       "      <th>0</th>\n",
       "      <td>True</td>\n",
       "      <td>False</td>\n",
       "      <td>False</td>\n",
       "      <td>True</td>\n",
       "      <td>True</td>\n",
       "      <td>True</td>\n",
       "    </tr>\n",
       "    <tr>\n",
       "      <th>1</th>\n",
       "      <td>True</td>\n",
       "      <td>True</td>\n",
       "      <td>True</td>\n",
       "      <td>True</td>\n",
       "      <td>False</td>\n",
       "      <td>False</td>\n",
       "    </tr>\n",
       "    <tr>\n",
       "      <th>2</th>\n",
       "      <td>False</td>\n",
       "      <td>True</td>\n",
       "      <td>False</td>\n",
       "      <td>True</td>\n",
       "      <td>True</td>\n",
       "      <td>True</td>\n",
       "    </tr>\n",
       "    <tr>\n",
       "      <th>3</th>\n",
       "      <td>False</td>\n",
       "      <td>False</td>\n",
       "      <td>False</td>\n",
       "      <td>False</td>\n",
       "      <td>False</td>\n",
       "      <td>False</td>\n",
       "    </tr>\n",
       "  </tbody>\n",
       "</table>\n",
       "</div>"
      ],
      "text/plain": [
       "       x      y    and     or    xor  myxor\n",
       "0   True  False  False   True   True   True\n",
       "1   True   True   True   True  False  False\n",
       "2  False   True  False   True   True   True\n",
       "3  False  False  False  False  False  False"
      ]
     },
     "execution_count": 3,
     "metadata": {},
     "output_type": "execute_result"
    }
   ],
   "source": [
    "ans['myxor'] = myxor(x,y)\n",
    "pa.DataFrame(ans)"
   ]
  },
  {
   "cell_type": "markdown",
   "metadata": {},
   "source": [
    "# Filtering the data"
   ]
  },
  {
   "cell_type": "code",
   "execution_count": 5,
   "metadata": {},
   "outputs": [
    {
     "data": {
      "text/plain": [
       "27623"
      ]
     },
     "execution_count": 5,
     "metadata": {},
     "output_type": "execute_result"
    }
   ],
   "source": [
    "dat[(dt.f.day == 1) & (dt.f.lat > 40) & ((dt.f.elev < 500) | (dt.f.elev > 1000)), :].nrows"
   ]
  },
  {
   "cell_type": "markdown",
   "metadata": {},
   "source": [
    "# Variable creation"
   ]
  },
  {
   "cell_type": "code",
   "execution_count": 20,
   "metadata": {},
   "outputs": [
    {
     "data": {
      "text/html": [
       "<div class='datatable'>\n",
       "  <table class='frame'>\n",
       "  <thead>\n",
       "    <tr class='colnames'><td class='row_index'></td><th>USAFID</th><th>WBAN</th><th>year</th><th>month</th><th>day</th><th>hour</th><th>min</th><th>lat</th><th>lon</th><th>elev</th><th class='vellipsis'>&hellip;</th><th>atm.press</th><th>atm.press.qc</th><th>rh</th><th>evel2</th><th>windsp_scaled</th></tr>\n",
       "    <tr class='coltypes'><td class='row_index'></td><td class='integer' title='int32'>&#x25AA;&#x25AA;&#x25AA;&#x25AA;</td><td class='integer' title='int32'>&#x25AA;&#x25AA;&#x25AA;&#x25AA;</td><td class='integer' title='int32'>&#x25AA;&#x25AA;&#x25AA;&#x25AA;</td><td class='integer' title='int32'>&#x25AA;&#x25AA;&#x25AA;&#x25AA;</td><td class='integer' title='int32'>&#x25AA;&#x25AA;&#x25AA;&#x25AA;</td><td class='integer' title='int32'>&#x25AA;&#x25AA;&#x25AA;&#x25AA;</td><td class='integer' title='int32'>&#x25AA;&#x25AA;&#x25AA;&#x25AA;</td><td class='float' title='float64'>&#x25AA;&#x25AA;&#x25AA;&#x25AA;&#x25AA;&#x25AA;&#x25AA;&#x25AA;</td><td class='float' title='float64'>&#x25AA;&#x25AA;&#x25AA;&#x25AA;&#x25AA;&#x25AA;&#x25AA;&#x25AA;</td><td class='integer' title='int32'>&#x25AA;&#x25AA;&#x25AA;&#x25AA;</td><td></td><td class='float' title='float64'>&#x25AA;&#x25AA;&#x25AA;&#x25AA;&#x25AA;&#x25AA;&#x25AA;&#x25AA;</td><td class='integer' title='int32'>&#x25AA;&#x25AA;&#x25AA;&#x25AA;</td><td class='float' title='float64'>&#x25AA;&#x25AA;&#x25AA;&#x25AA;&#x25AA;&#x25AA;&#x25AA;&#x25AA;</td><td class='integer' title='int32'>&#x25AA;&#x25AA;&#x25AA;&#x25AA;</td><td class='float' title='float64'>&#x25AA;&#x25AA;&#x25AA;&#x25AA;&#x25AA;&#x25AA;&#x25AA;&#x25AA;</td></tr>\n",
       "  </thead>\n",
       "  <tbody>\n",
       "    <tr><td class='row_index'>0</td><td>690150</td><td>93121</td><td>2019</td><td>8</td><td>1</td><td>0</td><td>56</td><td>34.3</td><td>&minus;116.166</td><td>696</td><td class=vellipsis>&hellip;</td><td>1009.9</td><td>5</td><td>19.8813</td><td>484416</td><td>2.65438</td></tr>\n",
       "    <tr><td class='row_index'>1</td><td>690150</td><td>93121</td><td>2019</td><td>8</td><td>1</td><td>1</td><td>56</td><td>34.3</td><td>&minus;116.166</td><td>696</td><td class=vellipsis>&hellip;</td><td>1010.3</td><td>5</td><td>21.761</td><td>484416</td><td>3.81858</td></tr>\n",
       "    <tr><td class='row_index'>2</td><td>690150</td><td>93121</td><td>2019</td><td>8</td><td>1</td><td>2</td><td>56</td><td>34.3</td><td>&minus;116.166</td><td>696</td><td class=vellipsis>&hellip;</td><td>1010.6</td><td>5</td><td>18.4821</td><td>484416</td><td>3.12006</td></tr>\n",
       "    <tr><td class='row_index'>3</td><td>690150</td><td>93121</td><td>2019</td><td>8</td><td>1</td><td>3</td><td>56</td><td>34.3</td><td>&minus;116.166</td><td>696</td><td class=vellipsis>&hellip;</td><td>1011.6</td><td>5</td><td>16.8886</td><td>484416</td><td>2.37497</td></tr>\n",
       "    <tr><td class='row_index'>4</td><td>690150</td><td>93121</td><td>2019</td><td>8</td><td>1</td><td>4</td><td>56</td><td>34.3</td><td>&minus;116.166</td><td>696</td><td class=vellipsis>&hellip;</td><td>1012.7</td><td>5</td><td>17.3841</td><td>484416</td><td>0.977929</td></tr>\n",
       "    <tr><td class='row_index'>5</td><td>690150</td><td>93121</td><td>2019</td><td>8</td><td>1</td><td>5</td><td>56</td><td>34.3</td><td>&minus;116.166</td><td>696</td><td class=vellipsis>&hellip;</td><td>1012.7</td><td>5</td><td>20.0154</td><td>484416</td><td>0</td></tr>\n",
       "    <tr><td class='row_index'>6</td><td>690150</td><td>93121</td><td>2019</td><td>8</td><td>1</td><td>6</td><td>56</td><td>34.3</td><td>&minus;116.166</td><td>696</td><td class=vellipsis>&hellip;</td><td>1012.8</td><td>5</td><td>22.8991</td><td>484416</td><td>0.698521</td></tr>\n",
       "    <tr><td class='row_index'>7</td><td>690150</td><td>93121</td><td>2019</td><td>8</td><td>1</td><td>7</td><td>56</td><td>34.3</td><td>&minus;116.166</td><td>696</td><td class=vellipsis>&hellip;</td><td>1012.8</td><td>5</td><td>24.5858</td><td>484416</td><td>0.977929</td></tr>\n",
       "    <tr><td class='row_index'>8</td><td>690150</td><td>93121</td><td>2019</td><td>8</td><td>1</td><td>8</td><td>56</td><td>34.3</td><td>&minus;116.166</td><td>696</td><td class=vellipsis>&hellip;</td><td>1012.5</td><td>5</td><td>29.3298</td><td>484416</td><td>1.21077</td></tr>\n",
       "    <tr><td class='row_index'>9</td><td>690150</td><td>93121</td><td>2019</td><td>8</td><td>1</td><td>9</td><td>56</td><td>34.3</td><td>&minus;116.166</td><td>696</td><td class=vellipsis>&hellip;</td><td>1012.7</td><td>5</td><td>30.2181</td><td>484416</td><td>0.698521</td></tr>\n",
       "  </tbody>\n",
       "  </table>\n",
       "  <div class='footer'>\n",
       "    <div class='frame_dimensions'>10 rows &times; 32 columns</div>\n",
       "  </div>\n",
       "</div>\n"
      ],
      "text/plain": [
       "<Frame [10 rows x 32 cols]>"
      ]
     },
     "execution_count": 20,
     "metadata": {},
     "output_type": "execute_result"
    }
   ],
   "source": [
    "dat[:, dt.update(evel2 = np.power(dt.f.elev, 2), windsp_scaled = dt.f[\"wind.sp\"] / dt.sd(dt.f[\"wind.sp\"]))]\n",
    "dat.head(10)"
   ]
  },
  {
   "cell_type": "markdown",
   "metadata": {},
   "source": [
    "# Merging data"
   ]
  },
  {
   "cell_type": "code",
   "execution_count": 21,
   "metadata": {},
   "outputs": [],
   "source": [
    "stations = dt.fread(\"ftp://ftp.ncdc.noaa.gov/pub/data/noaa/isd-history.csv\")"
   ]
  },
  {
   "cell_type": "code",
   "execution_count": 22,
   "metadata": {},
   "outputs": [
    {
     "data": {
      "text/html": [
       "<div class='datatable'>\n",
       "  <table class='frame'>\n",
       "  <thead>\n",
       "    <tr class='colnames'><td class='row_index'></td><th>USAF</th><th>WBAN</th><th>STATION NAME</th><th>CTRY</th><th>STATE</th><th>ICAO</th><th>LAT</th><th>LON</th><th>ELEV(M)</th><th>BEGIN</th><th>END</th></tr>\n",
       "    <tr class='coltypes'><td class='row_index'></td><td class='string' title='str32'>&#x25AA;&#x25AA;&#x25AA;&#x25AA;</td><td class='integer' title='int32'>&#x25AA;&#x25AA;&#x25AA;&#x25AA;</td><td class='string' title='str32'>&#x25AA;&#x25AA;&#x25AA;&#x25AA;</td><td class='string' title='str32'>&#x25AA;&#x25AA;&#x25AA;&#x25AA;</td><td class='string' title='str32'>&#x25AA;&#x25AA;&#x25AA;&#x25AA;</td><td class='string' title='str32'>&#x25AA;&#x25AA;&#x25AA;&#x25AA;</td><td class='float' title='float64'>&#x25AA;&#x25AA;&#x25AA;&#x25AA;&#x25AA;&#x25AA;&#x25AA;&#x25AA;</td><td class='float' title='float64'>&#x25AA;&#x25AA;&#x25AA;&#x25AA;&#x25AA;&#x25AA;&#x25AA;&#x25AA;</td><td class='float' title='float64'>&#x25AA;&#x25AA;&#x25AA;&#x25AA;&#x25AA;&#x25AA;&#x25AA;&#x25AA;</td><td class='integer' title='int32'>&#x25AA;&#x25AA;&#x25AA;&#x25AA;</td><td class='integer' title='int32'>&#x25AA;&#x25AA;&#x25AA;&#x25AA;</td></tr>\n",
       "  </thead>\n",
       "  <tbody>\n",
       "    <tr><td class='row_index'>0</td><td>007018</td><td>99999</td><td>WXPOD 7018</td><td></td><td></td><td></td><td>0</td><td>0</td><td>7018</td><td>20110309</td><td>20130730</td></tr>\n",
       "    <tr><td class='row_index'>1</td><td>007026</td><td>99999</td><td>WXPOD 7026</td><td>AF</td><td></td><td></td><td>0</td><td>0</td><td>7026</td><td>20120713</td><td>20170822</td></tr>\n",
       "    <tr><td class='row_index'>2</td><td>007070</td><td>99999</td><td>WXPOD 7070</td><td>AF</td><td></td><td></td><td>0</td><td>0</td><td>7070</td><td>20140923</td><td>20150926</td></tr>\n",
       "    <tr><td class='row_index'>3</td><td>008260</td><td>99999</td><td>WXPOD8270</td><td></td><td></td><td></td><td>0</td><td>0</td><td>0</td><td>20050101</td><td>20100920</td></tr>\n",
       "    <tr><td class='row_index'>4</td><td>008268</td><td>99999</td><td>WXPOD8278</td><td>AF</td><td></td><td></td><td>32.95</td><td>65.567</td><td>1156.7</td><td>20100519</td><td>20120323</td></tr>\n",
       "  </tbody>\n",
       "  </table>\n",
       "  <div class='footer'>\n",
       "    <div class='frame_dimensions'>5 rows &times; 11 columns</div>\n",
       "  </div>\n",
       "</div>\n"
      ],
      "text/plain": [
       "<Frame [5 rows x 11 cols]>"
      ]
     },
     "execution_count": 22,
     "metadata": {},
     "output_type": "execute_result"
    }
   ],
   "source": [
    "stations.head(5)"
   ]
  },
  {
   "cell_type": "code",
   "execution_count": 28,
   "metadata": {},
   "outputs": [
    {
     "ename": "ValueError",
     "evalue": "invalid literal for int() with base 10: 'A00002'",
     "output_type": "error",
     "traceback": [
      "\u001b[0;31m---------------------------------------------------------------------------\u001b[0m",
      "\u001b[0;31mValueError\u001b[0m                                Traceback (most recent call last)",
      "\u001b[0;32m<ipython-input-28-6b84ea269abb>\u001b[0m in \u001b[0;36m<module>\u001b[0;34m\u001b[0m\n\u001b[0;32m----> 1\u001b[0;31m \u001b[0mstations\u001b[0m\u001b[0;34m[\u001b[0m\u001b[0;34m:\u001b[0m\u001b[0;34m,\u001b[0m \u001b[0;34m\"USAF\"\u001b[0m\u001b[0;34m]\u001b[0m \u001b[0;34m=\u001b[0m \u001b[0mnp\u001b[0m\u001b[0;34m.\u001b[0m\u001b[0marray\u001b[0m\u001b[0;34m(\u001b[0m\u001b[0mstations\u001b[0m\u001b[0;34m[\u001b[0m\u001b[0;34m:\u001b[0m\u001b[0;34m,\u001b[0m\u001b[0;34m\"USAF\"\u001b[0m\u001b[0;34m]\u001b[0m\u001b[0;34m)\u001b[0m\u001b[0;34m.\u001b[0m\u001b[0mastype\u001b[0m\u001b[0;34m(\u001b[0m\u001b[0mnp\u001b[0m\u001b[0;34m.\u001b[0m\u001b[0mint32\u001b[0m\u001b[0;34m)\u001b[0m\u001b[0;34m\u001b[0m\u001b[0;34m\u001b[0m\u001b[0m\n\u001b[0m",
      "\u001b[0;31mValueError\u001b[0m: invalid literal for int() with base 10: 'A00002'"
     ]
    }
   ],
   "source": [
    "stations[:, \"USAF\"] = np.array(stations[:,\"USAF\"]).astype(np.int32)"
   ]
  },
  {
   "cell_type": "code",
   "execution_count": 30,
   "metadata": {},
   "outputs": [
    {
     "ename": "ValueError",
     "evalue": "invalid literal for int() with base 10: 'A00002'",
     "output_type": "error",
     "traceback": [
      "\u001b[0;31m---------------------------------------------------------------------------\u001b[0m",
      "\u001b[0;31mValueError\u001b[0m                                Traceback (most recent call last)",
      "\u001b[0;32m<ipython-input-30-661dbb5f61ea>\u001b[0m in \u001b[0;36m<module>\u001b[0;34m\u001b[0m\n\u001b[1;32m      1\u001b[0m \u001b[0mx\u001b[0m \u001b[0;34m=\u001b[0m \u001b[0mnp\u001b[0m\u001b[0;34m.\u001b[0m\u001b[0marray\u001b[0m\u001b[0;34m(\u001b[0m\u001b[0mstations\u001b[0m\u001b[0;34m[\u001b[0m\u001b[0;34m:\u001b[0m\u001b[0;34m,\u001b[0m\u001b[0;34m\"USAF\"\u001b[0m\u001b[0;34m]\u001b[0m\u001b[0;34m)\u001b[0m\u001b[0;34m\u001b[0m\u001b[0;34m\u001b[0m\u001b[0m\n\u001b[0;32m----> 2\u001b[0;31m \u001b[0mx\u001b[0m\u001b[0;34m.\u001b[0m\u001b[0mastype\u001b[0m\u001b[0;34m(\u001b[0m\u001b[0mnp\u001b[0m\u001b[0;34m.\u001b[0m\u001b[0mint32\u001b[0m\u001b[0;34m)\u001b[0m\u001b[0;34m\u001b[0m\u001b[0;34m\u001b[0m\u001b[0m\n\u001b[0m",
      "\u001b[0;31mValueError\u001b[0m: invalid literal for int() with base 10: 'A00002'"
     ]
    }
   ],
   "source": []
  },
  {
   "cell_type": "markdown",
   "metadata": {},
   "source": [
    "# Logical Operators with Data Table"
   ]
  },
  {
   "cell_type": "markdown",
   "metadata": {},
   "source": [
    "# Column selection"
   ]
  },
  {
   "cell_type": "code",
   "execution_count": 7,
   "metadata": {},
   "outputs": [
    {
     "data": {
      "text/html": [
       "<div class='datatable'>\n",
       "  <table class='frame'>\n",
       "  <thead>\n",
       "    <tr class='colnames'><td class='row_index'></td><th>USAFID</th><th>lat</th><th>lon</th></tr>\n",
       "    <tr class='coltypes'><td class='row_index'></td><td class='integer' title='int32'>&#x25AA;&#x25AA;&#x25AA;&#x25AA;</td><td class='float' title='float64'>&#x25AA;&#x25AA;&#x25AA;&#x25AA;&#x25AA;&#x25AA;&#x25AA;&#x25AA;</td><td class='float' title='float64'>&#x25AA;&#x25AA;&#x25AA;&#x25AA;&#x25AA;&#x25AA;&#x25AA;&#x25AA;</td></tr>\n",
       "  </thead>\n",
       "  <tbody>\n",
       "    <tr><td class='row_index'>0</td><td>690150</td><td>34.3</td><td>&minus;116.166</td></tr>\n",
       "    <tr><td class='row_index'>1</td><td>690150</td><td>34.3</td><td>&minus;116.166</td></tr>\n",
       "    <tr><td class='row_index'>2</td><td>690150</td><td>34.3</td><td>&minus;116.166</td></tr>\n",
       "    <tr><td class='row_index'>3</td><td>690150</td><td>34.3</td><td>&minus;116.166</td></tr>\n",
       "    <tr><td class='row_index'>4</td><td>690150</td><td>34.3</td><td>&minus;116.166</td></tr>\n",
       "  </tbody>\n",
       "  </table>\n",
       "  <div class='footer'>\n",
       "    <div class='frame_dimensions'>5 rows &times; 3 columns</div>\n",
       "  </div>\n",
       "</div>\n"
      ],
      "text/plain": [
       "<Frame [5 rows x 3 cols]>"
      ]
     },
     "execution_count": 7,
     "metadata": {},
     "output_type": "execute_result"
    }
   ],
   "source": [
    "dat[:,[\"USAFID\", \"lat\", \"lon\"]].head(5)"
   ]
  },
  {
   "cell_type": "markdown",
   "metadata": {},
   "source": [
    "# Variable creation"
   ]
  },
  {
   "cell_type": "code",
   "execution_count": 11,
   "metadata": {},
   "outputs": [
    {
     "data": {
      "text/html": [
       "<div class='datatable'>\n",
       "  <table class='frame'>\n",
       "  <thead>\n",
       "    <tr class='colnames'><td class='row_index'></td><th>Date</th><th>year</th><th>month</th><th>day</th></tr>\n",
       "    <tr class='coltypes'><td class='row_index'></td><td class='integer' title='int32'>&#x25AA;&#x25AA;&#x25AA;&#x25AA;</td><td class='integer' title='int32'>&#x25AA;&#x25AA;&#x25AA;&#x25AA;</td><td class='integer' title='int32'>&#x25AA;&#x25AA;&#x25AA;&#x25AA;</td><td class='integer' title='int32'>&#x25AA;&#x25AA;&#x25AA;&#x25AA;</td></tr>\n",
       "  </thead>\n",
       "  <tbody>\n",
       "    <tr><td class='row_index'>0</td><td>20190801</td><td>2019</td><td>8</td><td>1</td></tr>\n",
       "    <tr><td class='row_index'>1</td><td>20190801</td><td>2019</td><td>8</td><td>1</td></tr>\n",
       "    <tr><td class='row_index'>2</td><td>20190801</td><td>2019</td><td>8</td><td>1</td></tr>\n",
       "    <tr><td class='row_index'>3</td><td>20190801</td><td>2019</td><td>8</td><td>1</td></tr>\n",
       "  </tbody>\n",
       "  </table>\n",
       "  <div class='footer'>\n",
       "    <div class='frame_dimensions'>4 rows &times; 4 columns</div>\n",
       "  </div>\n",
       "</div>\n"
      ],
      "text/plain": [
       "<Frame [4 rows x 4 cols]>"
      ]
     },
     "execution_count": 11,
     "metadata": {},
     "output_type": "execute_result"
    }
   ],
   "source": [
    "dat[:, dt.update(Date = dt.f.year*10000 + dt.f.month*100 + dt.f.day)]\n",
    "dat[1:5, [\"Date\", \"year\", \"month\", \"day\"]] # First five rows of Date, year, month, day columns"
   ]
  },
  {
   "cell_type": "code",
   "execution_count": null,
   "metadata": {},
   "outputs": [],
   "source": [
    "dat_daily = dat[:\n",
    "  ,\n",
    "  {\n",
    "    \"atm_press_avg\" : dt.mean(dt.f[\"atm.press\"]),\n",
    "    \"temp_avg\"      : dt.mean(dt.f.temp)\n",
    "  },\n",
    "  dt.by(\"USAFID\", \"Date\")\n",
    "]"
   ]
  },
  {
   "cell_type": "code",
   "execution_count": null,
   "metadata": {},
   "outputs": [],
   "source": [
    "dat_daily"
   ]
  },
  {
   "cell_type": "code",
   "execution_count": null,
   "metadata": {},
   "outputs": [],
   "source": []
  },
  {
   "cell_type": "code",
   "execution_count": null,
   "metadata": {},
   "outputs": [],
   "source": []
  }
 ],
 "metadata": {
  "kernelspec": {
   "display_name": "Python 3",
   "language": "python",
   "name": "python3"
  },
  "language_info": {
   "codemirror_mode": {
    "name": "ipython",
    "version": 3
   },
   "file_extension": ".py",
   "mimetype": "text/x-python",
   "name": "python",
   "nbconvert_exporter": "python",
   "pygments_lexer": "ipython3",
   "version": "3.6.9"
  }
 },
 "nbformat": 4,
 "nbformat_minor": 4
}
